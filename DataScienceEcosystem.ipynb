{
 "cells": [
  {
   "cell_type": "markdown",
   "id": "2fada871-aedb-40fc-9497-8b9a47483c3e",
   "metadata": {},
   "source": [
    "# Data Science Tools and Ecosystem"
   ]
  },
  {
   "cell_type": "markdown",
   "id": "4d95fc52-fbc8-49fc-bcc4-b2a2e793a6fb",
   "metadata": {},
   "source": [
    "In this notebook, Data Science Tools and Ecosystem are summarized."
   ]
  },
  {
   "cell_type": "markdown",
   "id": "5ee58791-d2f5-4194-ba2c-02e28166f030",
   "metadata": {},
   "source": [
    "**Objectives:**\n",
    "* List popular languages for Data Science\n",
    "* List popular libraries for Data Science\n",
    "* Create simple python operations\n",
    "* List open source development environments for Data Science"
   ]
  },
  {
   "cell_type": "markdown",
   "id": "7488ef23-e6b6-48f7-b4e0-6f5bd088a4c1",
   "metadata": {},
   "source": [
    "## Author\n",
    "Ruben Villasenor Wo"
   ]
  },
  {
   "cell_type": "markdown",
   "id": "969b7813-fadc-44b7-8256-8783e5dcc7e2",
   "metadata": {},
   "source": [
    "Some of the popular languages that Data Scientists use are:\n",
    "1. Python\n",
    "2. R\n",
    "3. SQL"
   ]
  },
  {
   "cell_type": "markdown",
   "id": "bd7d8d98-7a5a-448c-b396-f6b9e14ef53d",
   "metadata": {},
   "source": [
    "Some of the commonly used libraries used by Data Scientists include:\n",
    "1. ggplot2\n",
    "2. sklearn\n",
    "3. matplotlib\n",
    "4. pandas"
   ]
  },
  {
   "cell_type": "markdown",
   "id": "f8ea87bb-444e-4e6e-951d-3372a9dc5793",
   "metadata": {},
   "source": [
    "| Data Science Tools |\n",
    "| - |\n",
    "| Visual Studios |\n",
    "| Jupyter |\n",
    "| RStudio |\n",
    "| Pycharm |"
   ]
  },
  {
   "cell_type": "markdown",
   "id": "ee7d6bea-3b6e-443f-ac18-89636aa82a4c",
   "metadata": {},
   "source": [
    "### Below are a few examples of evaluating arithmetic expressions in Python"
   ]
  },
  {
   "cell_type": "code",
   "execution_count": 2,
   "id": "276c0bf6-f80d-4ae5-82e9-f728a5cd3a86",
   "metadata": {},
   "outputs": [
    {
     "data": {
      "text/plain": [
       "17"
      ]
     },
     "execution_count": 2,
     "metadata": {},
     "output_type": "execute_result"
    }
   ],
   "source": [
    "#  This a simple arithmetic expression to mutiply then add integers\n",
    "(3*4)+5"
   ]
  },
  {
   "cell_type": "code",
   "execution_count": 3,
   "id": "1d5a6564-ea65-4ba0-b969-a31777ef76a1",
   "metadata": {},
   "outputs": [
    {
     "data": {
      "text/plain": [
       "3.3333333333333335"
      ]
     },
     "execution_count": 3,
     "metadata": {},
     "output_type": "execute_result"
    }
   ],
   "source": [
    "# This will convert 200 minutes to hours by diving by 60\n",
    "200 / 60"
   ]
  },
  {
   "cell_type": "markdown",
   "id": "697a9966-7b36-4e02-b4b4-e1c0b8aa60dc",
   "metadata": {},
   "source": []
  }
 ],
 "metadata": {
  "kernelspec": {
   "display_name": "Python 3 (ipykernel)",
   "language": "python",
   "name": "python3"
  },
  "language_info": {
   "codemirror_mode": {
    "name": "ipython",
    "version": 3
   },
   "file_extension": ".py",
   "mimetype": "text/x-python",
   "name": "python",
   "nbconvert_exporter": "python",
   "pygments_lexer": "ipython3",
   "version": "3.9.12"
  }
 },
 "nbformat": 4,
 "nbformat_minor": 5
}
